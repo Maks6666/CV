{
 "cells": [
  {
   "cell_type": "code",
   "execution_count": null,
   "metadata": {},
   "outputs": [],
   "source": [
    "%pip install ultralytics \n",
    "%pip install opencv-python"
   ]
  },
  {
   "cell_type": "code",
   "execution_count": null,
   "metadata": {},
   "outputs": [],
   "source": [
    "from ultralytics import YOLO \n",
    "import cv2\n",
    "\n",
    "model = YOLO(\"yolov8s-pose\")\n",
    "photo = \"path/to/image\"\n",
    "photo = cv2.imread(photo)\n",
    "\n",
    "# to output object detection with pose detection\n",
    "# results = model(source=photo, show=True, conf=0.3, save=True)\n",
    "\n",
    "# to output keypoints \n",
    "results = model(photo)[0]\n",
    "\n",
    "for keypoints in results.keypoints:\n",
    "        for person_keypoints in keypoints.xy.tolist():\n",
    "            for point in person_keypoints:\n",
    "                x, y = point\n",
    "                cv2.circle(photo, (int(x), int(y)), 3, (0, 0, 255), thickness=cv2.FILLED)\n",
    "\n",
    "\n",
    "cv2.imshow(\"Photo\", photo)\n",
    "cv2.waitKey(0)\n",
    "cv2.destroyAllWindows()\n"
   ]
  },
  {
   "cell_type": "code",
   "execution_count": null,
   "metadata": {},
   "outputs": [],
   "source": [
    "from ultralytics import YOLO \n",
    "import cv2\n",
    "\n",
    "model = YOLO(\"yolov8s-pose\")\n",
    "video = \"path/to/video\"\n",
    "cap = cv2.VideoCapture(video)\n",
    "\n",
    "\n",
    "while True:\n",
    "    ret, frame = cap.read()\n",
    "    if not ret:\n",
    "        break\n",
    "\n",
    "    # # to output object detection with pose detection\n",
    "    # results = model(source=frame, show=True, conf=0.3, save=True)\n",
    "\n",
    "\n",
    "    # to output keypoints \n",
    "    results = model(frame)[0]\n",
    "\n",
    "    for keypoints in results.keypoints:\n",
    "            for person_keypoints in keypoints.xy.tolist():\n",
    "                for point in person_keypoints:\n",
    "                    x, y = point\n",
    "                    cv2.circle(frame, (int(x), int(y)), 8, (0, 0, 255), thickness=cv2.FILLED)\n",
    "\n",
    "\n",
    "    cv2.imshow(\"Video\", frame)\n",
    "    if cv2.waitKey(1) & 0xFF == ord('q'):\n",
    "        break\n",
    "# cv2.imshow(\"Photo\", frame)\n",
    "cap.release()\n",
    "cv2.destroyAllWindows()\n",
    " \n"
   ]
  }
 ],
 "metadata": {
  "kernelspec": {
   "display_name": "Python 3",
   "language": "python",
   "name": "python3"
  },
  "language_info": {
   "codemirror_mode": {
    "name": "ipython",
    "version": 3
   },
   "file_extension": ".py",
   "mimetype": "text/x-python",
   "name": "python",
   "nbconvert_exporter": "python",
   "pygments_lexer": "ipython3",
   "version": "3.9.6"
  }
 },
 "nbformat": 4,
 "nbformat_minor": 2
}
