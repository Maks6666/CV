{
  "nbformat": 4,
  "nbformat_minor": 0,
  "metadata": {
    "colab": {
      "provenance": [],
      "gpuType": "T4",
      "include_colab_link": true
    },
    "kernelspec": {
      "name": "python3",
      "display_name": "Python 3"
    },
    "language_info": {
      "name": "python"
    },
    "accelerator": "GPU"
  },
  "cells": [
    {
      "cell_type": "markdown",
      "metadata": {
        "id": "view-in-github",
        "colab_type": "text"
      },
      "source": [
        "<a href=\"https://colab.research.google.com/github/Maks6666/CV/blob/main/pytorch.ipynb\" target=\"_parent\"><img src=\"https://colab.research.google.com/assets/colab-badge.svg\" alt=\"Open In Colab\"/></a>"
      ]
    },
    {
      "cell_type": "markdown",
      "source": [
        "Імпорт модулів"
      ],
      "metadata": {
        "id": "ZnHVsAJ_5Py3"
      }
    },
    {
      "cell_type": "code",
      "execution_count": 1,
      "metadata": {
        "id": "yJf_g69N5LP6"
      },
      "outputs": [],
      "source": [
        "import torch\n",
        "import numpy as np"
      ]
    },
    {
      "cell_type": "markdown",
      "source": [
        "# Завдання 1\n",
        "\n",
        "Перегляньте інформацію про доступні процесори, та виведіть про них інформацію"
      ],
      "metadata": {
        "id": "pRkcTmfh6jCX"
      }
    },
    {
      "cell_type": "code",
      "source": [
        "print(torch.cuda.is_available())\n",
        "\n",
        "if torch.cuda.is_available():\n",
        "  print(torch.cuda.device_count())\n",
        "  print(torch.cuda.get_device_name())\n",
        "  print(torch.cuda.get_device_capability())\n",
        "  print(torch.cuda.get_device_properties)\n",
        "\n",
        "device = torch.device('cuda' if torch.cuda.is_available() else 'cpu')\n",
        "tensor = torch.tensor([1, 2, 3])\n",
        "tensor = tensor.to(device)\n",
        "print(tensor.device)"
      ],
      "metadata": {
        "id": "W5yEGTcV6zHy",
        "outputId": "1baa1d74-b63a-40b1-ca75-8692ee371891",
        "colab": {
          "base_uri": "https://localhost:8080/"
        }
      },
      "execution_count": 11,
      "outputs": [
        {
          "output_type": "stream",
          "name": "stdout",
          "text": [
            "True\n",
            "1\n",
            "Tesla T4\n",
            "(7, 5)\n",
            "<function get_device_properties at 0x7f808ebbc4c0>\n",
            "cuda:0\n"
          ]
        }
      ]
    },
    {
      "cell_type": "code",
      "source": [
        "tensor = torch.tensor([1, 2, 3], device=device)\n",
        "tensor.device"
      ],
      "metadata": {
        "id": "Q0DQc0J-4jps",
        "outputId": "97e066c0-e450-4db0-f351-e02f6c44a1ed",
        "colab": {
          "base_uri": "https://localhost:8080/"
        }
      },
      "execution_count": 13,
      "outputs": [
        {
          "output_type": "execute_result",
          "data": {
            "text/plain": [
              "device(type='cuda', index=0)"
            ]
          },
          "metadata": {},
          "execution_count": 13
        }
      ]
    },
    {
      "cell_type": "markdown",
      "source": [
        "# Завдання 2\n",
        "Підключіть colab до процесора GPU, та знову виведіть інформацію про доступні процесори"
      ],
      "metadata": {
        "id": "xTLIVYQg6z5G"
      }
    },
    {
      "cell_type": "code",
      "source": [
        "print(torch.cuda.is_available())\n",
        "\n",
        "if torch.cuda.is_available():\n",
        "  print(torch.cuda.device_count())\n",
        "  print(torch.cuda.get_device_name())\n",
        "  print(torch.cuda.get_device_capability())\n",
        "  print(torch.cuda.get_device_properties)\n",
        "\n",
        "device = torch.device('cuda' if torch.cuda.is_available() else 'cpu')\n",
        "tensor = torch.tensor([1, 2, 3])\n",
        "tensor = tensor.to(device)\n",
        "print(tensor.device)"
      ],
      "metadata": {
        "id": "iVPWDF2D8dAM",
        "outputId": "e5dfb0ad-eb99-4cdd-e70d-776f48f8ebb8",
        "colab": {
          "base_uri": "https://localhost:8080/"
        }
      },
      "execution_count": 14,
      "outputs": [
        {
          "output_type": "stream",
          "name": "stdout",
          "text": [
            "True\n",
            "1\n",
            "Tesla T4\n",
            "(7, 5)\n",
            "<function get_device_properties at 0x7f808ebbc4c0>\n",
            "cuda:0\n"
          ]
        }
      ]
    },
    {
      "cell_type": "markdown",
      "source": [
        "# Завдання 3\n",
        "Створіть випадковий тензор розміру (2, 3). Виведіть інформацію про його:\n",
        "\n",
        "* розмір\n",
        "* тип даних\n",
        "* процесор\n",
        "* наявність градієнта"
      ],
      "metadata": {
        "id": "OkMil6fb7AiX"
      }
    },
    {
      "cell_type": "code",
      "source": [
        "tensor = torch.rand(2, 3)\n",
        "print(tensor.shape)\n",
        "print(tensor.size)\n",
        "print(tensor.device)\n",
        "print(tensor.requires_grad)\n",
        "print(type(tensor))"
      ],
      "metadata": {
        "id": "ih3MeOto8yrO",
        "outputId": "450b3e9d-ef45-444b-8bb0-ff59ed985fc8",
        "colab": {
          "base_uri": "https://localhost:8080/"
        }
      },
      "execution_count": 20,
      "outputs": [
        {
          "output_type": "stream",
          "name": "stdout",
          "text": [
            "torch.Size([2, 3])\n",
            "<built-in method size of Tensor object at 0x7f7fd8a1d3a0>\n",
            "cpu\n",
            "False\n",
            "<class 'torch.Tensor'>\n"
          ]
        }
      ]
    },
    {
      "cell_type": "markdown",
      "source": [
        "# Завдання 4\n",
        "\n",
        "Створіть 2 тензора розміру 100. Використовуючи лише модуль `torch` обрахуйте середьню абсолютну похибку(mae) між ними. Виведіть результат як число"
      ],
      "metadata": {
        "id": "nNrrplv_9Vha"
      }
    },
    {
      "cell_type": "code",
      "source": [
        "tensor_1 = torch.rand(1, 100)\n",
        "tensor_2 = torch.rand(1, 100)\n",
        "\n",
        "mae = torch.mean(torch.abs(tensor_1 - tensor_2))\n",
        "mae.item()"
      ],
      "metadata": {
        "id": "HybhfrBT9wT5",
        "outputId": "2945ec9c-82b2-4bee-af33-7ebf57e803a3",
        "colab": {
          "base_uri": "https://localhost:8080/"
        }
      },
      "execution_count": 23,
      "outputs": [
        {
          "output_type": "execute_result",
          "data": {
            "text/plain": [
              "0.3225947618484497"
            ]
          },
          "metadata": {},
          "execution_count": 23
        }
      ]
    },
    {
      "cell_type": "markdown",
      "source": [
        "# Завдання 5\n",
        "\n",
        "Створіть 3 випадкових тензора з розмірами:\n",
        "* 32х28х28\n",
        "* 16х28х28\n",
        "* 64х28х28\n",
        "\n",
        "Об'єднайте їх по першій розмірності. Результат має мати розмір 112х28х28"
      ],
      "metadata": {
        "id": "JoU54G199w5-"
      }
    },
    {
      "cell_type": "code",
      "source": [
        "tensor_1 = torch.rand(32, 28, 28)\n",
        "tensor_2 = torch.rand(16, 28, 28)\n",
        "tensor_3 = torch.rand(64, 28, 28)\n",
        "\n",
        "commom_tensor = torch.cat([tensor_1, tensor_2, tensor_3], dim=0)\n",
        "commom_tensor.shape"
      ],
      "metadata": {
        "id": "Ar7NOowB-NBn",
        "outputId": "ac305e09-557b-4e74-ad7a-755f278a1353",
        "colab": {
          "base_uri": "https://localhost:8080/"
        }
      },
      "execution_count": 28,
      "outputs": [
        {
          "output_type": "execute_result",
          "data": {
            "text/plain": [
              "torch.Size([112, 28, 28])"
            ]
          },
          "metadata": {},
          "execution_count": 28
        }
      ]
    },
    {
      "cell_type": "markdown",
      "source": [
        "# Завдання 6\n",
        "Застосуйте метод градієнтного спуску для функції"
      ],
      "metadata": {
        "id": "8v4erUf8-Tnn"
      }
    },
    {
      "cell_type": "code",
      "source": [
        "from torch.optim import SGD\n",
        "\n",
        "def f(x):\n",
        "  return x**2/3 + torch.sin(torch.pi*x)\n",
        "\n",
        "\n",
        "device = \"cuda\" if torch.cuda.is_available() else \"cpu\"\n",
        "torch.set_default_device(device)\n",
        "\n",
        "x = torch.tensor(3.0, requires_grad=True)\n",
        "\n",
        "learning_rate = 1e-3\n",
        "momentum = 0.9\n",
        "\n",
        "optimizer = SGD([x],\n",
        "                lr=learning_rate,\n",
        "                momentum=momentum)\n",
        "\n",
        "\n",
        "\n",
        "\n",
        "\n",
        "for i in range(500):\n",
        "  loss = f(x)\n",
        "\n",
        "  loss.backward()\n",
        "\n",
        "  if i % 5 == 0:\n",
        "    print(f\"Loss on {i} iteration: {loss.item()}\")\n",
        "\n",
        "  optimizer.step()\n",
        "  optimizer.zero_grad()"
      ],
      "metadata": {
        "id": "c89FE7vc-aWy",
        "outputId": "d57f0642-3183-4686-db62-d415ee9ecc00",
        "colab": {
          "base_uri": "https://localhost:8080/"
        }
      },
      "execution_count": 53,
      "outputs": [
        {
          "output_type": "stream",
          "name": "stdout",
          "text": [
            "Loss on 0 iteration: 3.0\n",
            "Loss on 5 iteration: 2.9829928874969482\n",
            "Loss on 10 iteration: 2.9477968215942383\n",
            "Loss on 15 iteration: 2.9060966968536377\n",
            "Loss on 20 iteration: 2.8676326274871826\n",
            "Loss on 25 iteration: 2.838982343673706\n",
            "Loss on 30 iteration: 2.8221583366394043\n",
            "Loss on 35 iteration: 2.815027952194214\n",
            "Loss on 40 iteration: 2.8135316371917725\n",
            "Loss on 45 iteration: 2.8140664100646973\n",
            "Loss on 50 iteration: 2.814631938934326\n",
            "Loss on 55 iteration: 2.814671039581299\n",
            "Loss on 60 iteration: 2.814352035522461\n",
            "Loss on 65 iteration: 2.813973903656006\n",
            "Loss on 70 iteration: 2.8137052059173584\n",
            "Loss on 75 iteration: 2.8135735988616943\n",
            "Loss on 80 iteration: 2.8135340213775635\n",
            "Loss on 85 iteration: 2.8135342597961426\n",
            "Loss on 90 iteration: 2.813542127609253\n",
            "Loss on 95 iteration: 2.813544988632202\n",
            "Loss on 100 iteration: 2.8135428428649902\n",
            "Loss on 105 iteration: 2.8135385513305664\n",
            "Loss on 110 iteration: 2.81353497505188\n",
            "Loss on 115 iteration: 2.8135321140289307\n",
            "Loss on 120 iteration: 2.8135321140289307\n",
            "Loss on 125 iteration: 2.8135318756103516\n",
            "Loss on 130 iteration: 2.8135318756103516\n",
            "Loss on 135 iteration: 2.8135313987731934\n",
            "Loss on 140 iteration: 2.8135316371917725\n",
            "Loss on 145 iteration: 2.8135313987731934\n",
            "Loss on 150 iteration: 2.8135316371917725\n",
            "Loss on 155 iteration: 2.8135313987731934\n",
            "Loss on 160 iteration: 2.8135313987731934\n",
            "Loss on 165 iteration: 2.8135316371917725\n",
            "Loss on 170 iteration: 2.8135313987731934\n",
            "Loss on 175 iteration: 2.8135318756103516\n",
            "Loss on 180 iteration: 2.8135313987731934\n",
            "Loss on 185 iteration: 2.8135313987731934\n",
            "Loss on 190 iteration: 2.8135321140289307\n",
            "Loss on 195 iteration: 2.8135313987731934\n",
            "Loss on 200 iteration: 2.8135316371917725\n",
            "Loss on 205 iteration: 2.8135316371917725\n",
            "Loss on 210 iteration: 2.8135313987731934\n",
            "Loss on 215 iteration: 2.8135321140289307\n",
            "Loss on 220 iteration: 2.8135313987731934\n",
            "Loss on 225 iteration: 2.8135313987731934\n",
            "Loss on 230 iteration: 2.8135313987731934\n",
            "Loss on 235 iteration: 2.8135316371917725\n",
            "Loss on 240 iteration: 2.8135316371917725\n",
            "Loss on 245 iteration: 2.8135316371917725\n",
            "Loss on 250 iteration: 2.8135316371917725\n",
            "Loss on 255 iteration: 2.8135316371917725\n",
            "Loss on 260 iteration: 2.8135316371917725\n",
            "Loss on 265 iteration: 2.8135316371917725\n",
            "Loss on 270 iteration: 2.8135316371917725\n",
            "Loss on 275 iteration: 2.8135316371917725\n",
            "Loss on 280 iteration: 2.8135316371917725\n",
            "Loss on 285 iteration: 2.8135316371917725\n",
            "Loss on 290 iteration: 2.8135316371917725\n",
            "Loss on 295 iteration: 2.8135316371917725\n",
            "Loss on 300 iteration: 2.8135316371917725\n",
            "Loss on 305 iteration: 2.8135316371917725\n",
            "Loss on 310 iteration: 2.8135316371917725\n",
            "Loss on 315 iteration: 2.8135316371917725\n",
            "Loss on 320 iteration: 2.8135316371917725\n",
            "Loss on 325 iteration: 2.8135316371917725\n",
            "Loss on 330 iteration: 2.8135316371917725\n",
            "Loss on 335 iteration: 2.8135316371917725\n",
            "Loss on 340 iteration: 2.8135316371917725\n",
            "Loss on 345 iteration: 2.8135316371917725\n",
            "Loss on 350 iteration: 2.8135316371917725\n",
            "Loss on 355 iteration: 2.8135316371917725\n",
            "Loss on 360 iteration: 2.8135316371917725\n",
            "Loss on 365 iteration: 2.8135316371917725\n",
            "Loss on 370 iteration: 2.8135316371917725\n",
            "Loss on 375 iteration: 2.8135316371917725\n",
            "Loss on 380 iteration: 2.8135316371917725\n",
            "Loss on 385 iteration: 2.8135316371917725\n",
            "Loss on 390 iteration: 2.8135316371917725\n",
            "Loss on 395 iteration: 2.8135316371917725\n",
            "Loss on 400 iteration: 2.8135316371917725\n",
            "Loss on 405 iteration: 2.8135316371917725\n",
            "Loss on 410 iteration: 2.8135316371917725\n",
            "Loss on 415 iteration: 2.8135316371917725\n",
            "Loss on 420 iteration: 2.8135316371917725\n",
            "Loss on 425 iteration: 2.8135316371917725\n",
            "Loss on 430 iteration: 2.8135316371917725\n",
            "Loss on 435 iteration: 2.8135316371917725\n",
            "Loss on 440 iteration: 2.8135316371917725\n",
            "Loss on 445 iteration: 2.8135316371917725\n",
            "Loss on 450 iteration: 2.8135316371917725\n",
            "Loss on 455 iteration: 2.8135316371917725\n",
            "Loss on 460 iteration: 2.8135316371917725\n",
            "Loss on 465 iteration: 2.8135316371917725\n",
            "Loss on 470 iteration: 2.8135316371917725\n",
            "Loss on 475 iteration: 2.8135316371917725\n",
            "Loss on 480 iteration: 2.8135316371917725\n",
            "Loss on 485 iteration: 2.8135316371917725\n",
            "Loss on 490 iteration: 2.8135316371917725\n",
            "Loss on 495 iteration: 2.8135316371917725\n"
          ]
        }
      ]
    },
    {
      "cell_type": "code",
      "source": [
        "\n",
        "import matplotlib.pyplot as plt\n",
        "\n",
        "xs = torch.linspace(-3, 5, 100)\n",
        "plt.plot(xs.cpu(), f(xs).cpu(), label='f(x)')\n",
        "plt.scatter(x.item(), f(x).item(), c='red', label='min')\n",
        "plt.legend()"
      ],
      "metadata": {
        "id": "bBlzz1TRAZ7P",
        "outputId": "19639acd-dda7-4eec-f1da-eeea0486adaa",
        "colab": {
          "base_uri": "https://localhost:8080/",
          "height": 448
        }
      },
      "execution_count": 56,
      "outputs": [
        {
          "output_type": "execute_result",
          "data": {
            "text/plain": [
              "<matplotlib.legend.Legend at 0x7f7fbd2fb5b0>"
            ]
          },
          "metadata": {},
          "execution_count": 56
        },
        {
          "output_type": "display_data",
          "data": {
            "text/plain": [
              "<Figure size 640x480 with 1 Axes>"
            ],
            "image/png": "[encoded data removed]"
          },
          "metadata": {}
        }
      ]
    },
    {
      "cell_type": "markdown",
      "source": [
        "# Завдання 7\n",
        "Застосуйте метод градієнтного спуску для функції. Мінімум функції рівний 0"
      ],
      "metadata": {
        "id": "UjHK74ES-iuO"
      }
    },
    {
      "cell_type": "code",
      "source": [
        "def f1(x, y):\n",
        "  # функція Швефеля\n",
        "  return  418.9829*2 - x*torch.sin(x.abs().sqrt()) - y*torch.sin(y.abs().sqrt())\n",
        "\n",
        "def f2(x, y):\n",
        "  # трьохгорбна функція\n",
        "  return 2*x**2  - 1.05*x**4 + 1/6*x**6 + x*y  + y**2\n",
        "\n",
        "def f3(x, y):\n",
        "  # функція птах\n",
        "  return 106.7645 + torch.sin(x)*torch.exp((1-torch.cos(y))**2) + \\\n",
        "  torch.cos(y)*torch.exp((1-torch.sin(x))**2) + \\\n",
        "  (x-y)**2"
      ],
      "metadata": {
        "id": "vRD515Ik_xM-"
      },
      "execution_count": 59,
      "outputs": []
    },
    {
      "cell_type": "code",
      "source": [
        "x = torch.tensor(2.0, requires_grad=True)\n",
        "# x.device\n",
        "y = torch.tensor(1.0, requires_grad=True)\n",
        "\n",
        "learning_rate = 1e-2\n",
        "\n",
        "optimizer = SGD(([x, y]),\n",
        "                lr=learning_rate\n",
        "                )\n",
        "\n",
        "for i in range(500):\n",
        "  loss = f1(x, y)\n",
        "\n",
        "  loss.backward()\n",
        "\n",
        "  if i % 5 == 0:\n",
        "    print(f\"Loss on {i} iteration: {loss.item()}\")\n",
        "\n",
        "\n",
        "  optimizer.step()\n",
        "  optimizer.zero_grad()\n"
      ],
      "metadata": {
        "id": "j2RaZh9E-oyK",
        "outputId": "747716e6-b384-4bd6-8d52-8b5e00b7cfec",
        "colab": {
          "base_uri": "https://localhost:8080/"
        }
      },
      "execution_count": 61,
      "outputs": [
        {
          "output_type": "stream",
          "name": "stdout",
          "text": [
            "Loss on 0 iteration: 835.1488037109375\n",
            "Loss on 5 iteration: 835.0267333984375\n",
            "Loss on 10 iteration: 834.904541015625\n",
            "Loss on 15 iteration: 834.7826538085938\n",
            "Loss on 20 iteration: 834.6611938476562\n",
            "Loss on 25 iteration: 834.5403442382812\n",
            "Loss on 30 iteration: 834.4203491210938\n",
            "Loss on 35 iteration: 834.3013305664062\n",
            "Loss on 40 iteration: 834.1835327148438\n",
            "Loss on 45 iteration: 834.0669555664062\n",
            "Loss on 50 iteration: 833.951904296875\n",
            "Loss on 55 iteration: 833.8384399414062\n",
            "Loss on 60 iteration: 833.7266235351562\n",
            "Loss on 65 iteration: 833.6165771484375\n",
            "Loss on 70 iteration: 833.5084838867188\n",
            "Loss on 75 iteration: 833.40234375\n",
            "Loss on 80 iteration: 833.2982177734375\n",
            "Loss on 85 iteration: 833.1962890625\n",
            "Loss on 90 iteration: 833.0963745117188\n",
            "Loss on 95 iteration: 832.998779296875\n",
            "Loss on 100 iteration: 832.9033203125\n",
            "Loss on 105 iteration: 832.8101806640625\n",
            "Loss on 110 iteration: 832.7192993164062\n",
            "Loss on 115 iteration: 832.6306762695312\n",
            "Loss on 120 iteration: 832.5443115234375\n",
            "Loss on 125 iteration: 832.460205078125\n",
            "Loss on 130 iteration: 832.37841796875\n",
            "Loss on 135 iteration: 832.2988891601562\n",
            "Loss on 140 iteration: 832.2216186523438\n",
            "Loss on 145 iteration: 832.146484375\n",
            "Loss on 150 iteration: 832.0736083984375\n",
            "Loss on 155 iteration: 832.0028686523438\n",
            "Loss on 160 iteration: 831.934326171875\n",
            "Loss on 165 iteration: 831.8678588867188\n",
            "Loss on 170 iteration: 831.8034057617188\n",
            "Loss on 175 iteration: 831.740966796875\n",
            "Loss on 180 iteration: 831.6806030273438\n",
            "Loss on 185 iteration: 831.6221313476562\n",
            "Loss on 190 iteration: 831.5655517578125\n",
            "Loss on 195 iteration: 831.5108642578125\n",
            "Loss on 200 iteration: 831.4579467773438\n",
            "Loss on 205 iteration: 831.4067993164062\n",
            "Loss on 210 iteration: 831.357421875\n",
            "Loss on 215 iteration: 831.3097534179688\n",
            "Loss on 220 iteration: 831.263671875\n",
            "Loss on 225 iteration: 831.2191772460938\n",
            "Loss on 230 iteration: 831.17626953125\n",
            "Loss on 235 iteration: 831.1348266601562\n",
            "Loss on 240 iteration: 831.0948486328125\n",
            "Loss on 245 iteration: 831.0563354492188\n",
            "Loss on 250 iteration: 831.0191040039062\n",
            "Loss on 255 iteration: 830.9832763671875\n",
            "Loss on 260 iteration: 830.94873046875\n",
            "Loss on 265 iteration: 830.9154052734375\n",
            "Loss on 270 iteration: 830.88330078125\n",
            "Loss on 275 iteration: 830.8523559570312\n",
            "Loss on 280 iteration: 830.8226318359375\n",
            "Loss on 285 iteration: 830.7939453125\n",
            "Loss on 290 iteration: 830.7662963867188\n",
            "Loss on 295 iteration: 830.7396850585938\n",
            "Loss on 300 iteration: 830.7140502929688\n",
            "Loss on 305 iteration: 830.6893920898438\n",
            "Loss on 310 iteration: 830.6655883789062\n",
            "Loss on 315 iteration: 830.6427612304688\n",
            "Loss on 320 iteration: 830.6207885742188\n",
            "Loss on 325 iteration: 830.599609375\n",
            "Loss on 330 iteration: 830.5792236328125\n",
            "Loss on 335 iteration: 830.5596313476562\n",
            "Loss on 340 iteration: 830.5408325195312\n",
            "Loss on 345 iteration: 830.5226440429688\n",
            "Loss on 350 iteration: 830.5051879882812\n",
            "Loss on 355 iteration: 830.4884033203125\n",
            "Loss on 360 iteration: 830.4722900390625\n",
            "Loss on 365 iteration: 830.456787109375\n",
            "Loss on 370 iteration: 830.4418334960938\n",
            "Loss on 375 iteration: 830.4275512695312\n",
            "Loss on 380 iteration: 830.4137573242188\n",
            "Loss on 385 iteration: 830.4004516601562\n",
            "Loss on 390 iteration: 830.3876953125\n",
            "Loss on 395 iteration: 830.3754272460938\n",
            "Loss on 400 iteration: 830.3636474609375\n",
            "Loss on 405 iteration: 830.3523559570312\n",
            "Loss on 410 iteration: 830.3414916992188\n",
            "Loss on 415 iteration: 830.3309936523438\n",
            "Loss on 420 iteration: 830.3209228515625\n",
            "Loss on 425 iteration: 830.311279296875\n",
            "Loss on 430 iteration: 830.3019409179688\n",
            "Loss on 435 iteration: 830.2930297851562\n",
            "Loss on 440 iteration: 830.284423828125\n",
            "Loss on 445 iteration: 830.2762451171875\n",
            "Loss on 450 iteration: 830.268310546875\n",
            "Loss on 455 iteration: 830.2606811523438\n",
            "Loss on 460 iteration: 830.2533569335938\n",
            "Loss on 465 iteration: 830.246337890625\n",
            "Loss on 470 iteration: 830.2395629882812\n",
            "Loss on 475 iteration: 830.2330932617188\n",
            "Loss on 480 iteration: 830.2268676757812\n",
            "Loss on 485 iteration: 830.2208862304688\n",
            "Loss on 490 iteration: 830.2151489257812\n",
            "Loss on 495 iteration: 830.2095947265625\n"
          ]
        }
      ]
    },
    {
      "cell_type": "code",
      "source": [
        "x = torch.tensor(2.0, requires_grad=True)\n",
        "# x.device\n",
        "y = torch.tensor(3.0, requires_grad=True)\n",
        "\n",
        "learning_rate = 1e-3\n",
        "\n",
        "optimizer = SGD(([x, y]),\n",
        "                lr=learning_rate\n",
        "                )\n",
        "\n",
        "for i in range(600):\n",
        "  loss = f2(x, y)\n",
        "\n",
        "  loss.backward()\n",
        "\n",
        "  if i % 5 == 0:\n",
        "    print(f\"Loss on {i} iteration: {loss.item()}\")\n",
        "\n",
        "\n",
        "  optimizer.step()\n",
        "  optimizer.zero_grad()"
      ],
      "metadata": {
        "id": "y2nBfcOACDac",
        "outputId": "42120334-53e3-4ca0-c5bb-3422a67a5bb6",
        "colab": {
          "base_uri": "https://localhost:8080/"
        }
      },
      "execution_count": 63,
      "outputs": [
        {
          "output_type": "stream",
          "name": "stdout",
          "text": [
            "Loss on 0 iteration: 16.866668701171875\n",
            "Loss on 5 iteration: 16.169422149658203\n",
            "Loss on 10 iteration: 15.582855224609375\n",
            "Loss on 15 iteration: 15.071672439575195\n",
            "Loss on 20 iteration: 14.61463451385498\n",
            "Loss on 25 iteration: 14.198225021362305\n",
            "Loss on 30 iteration: 13.81344223022461\n",
            "Loss on 35 iteration: 13.454063415527344\n",
            "Loss on 40 iteration: 13.11563777923584\n",
            "Loss on 45 iteration: 12.794897079467773\n",
            "Loss on 50 iteration: 12.489376068115234\n",
            "Loss on 55 iteration: 12.197181701660156\n",
            "Loss on 60 iteration: 11.916816711425781\n",
            "Loss on 65 iteration: 11.647090911865234\n",
            "Loss on 70 iteration: 11.387033462524414\n",
            "Loss on 75 iteration: 11.135841369628906\n",
            "Loss on 80 iteration: 10.892841339111328\n",
            "Loss on 85 iteration: 10.657469749450684\n",
            "Loss on 90 iteration: 10.429235458374023\n",
            "Loss on 95 iteration: 10.20771598815918\n",
            "Loss on 100 iteration: 9.992537498474121\n",
            "Loss on 105 iteration: 9.783378601074219\n",
            "Loss on 110 iteration: 9.57994270324707\n",
            "Loss on 115 iteration: 9.38197135925293\n",
            "Loss on 120 iteration: 9.189223289489746\n",
            "Loss on 125 iteration: 9.001485824584961\n",
            "Loss on 130 iteration: 8.818560600280762\n",
            "Loss on 135 iteration: 8.640264511108398\n",
            "Loss on 140 iteration: 8.466431617736816\n",
            "Loss on 145 iteration: 8.296903610229492\n",
            "Loss on 150 iteration: 8.131534576416016\n",
            "Loss on 155 iteration: 7.970190048217773\n",
            "Loss on 160 iteration: 7.812738418579102\n",
            "Loss on 165 iteration: 7.659059047698975\n",
            "Loss on 170 iteration: 7.509037017822266\n",
            "Loss on 175 iteration: 7.362564563751221\n",
            "Loss on 180 iteration: 7.219536304473877\n",
            "Loss on 185 iteration: 7.079854488372803\n",
            "Loss on 190 iteration: 6.943425178527832\n",
            "Loss on 195 iteration: 6.810159683227539\n",
            "Loss on 200 iteration: 6.679968357086182\n",
            "Loss on 205 iteration: 6.55277156829834\n",
            "Loss on 210 iteration: 6.428488254547119\n",
            "Loss on 215 iteration: 6.307042121887207\n",
            "Loss on 220 iteration: 6.188358783721924\n",
            "Loss on 225 iteration: 6.0723700523376465\n",
            "Loss on 230 iteration: 5.959005355834961\n",
            "Loss on 235 iteration: 5.848199844360352\n",
            "Loss on 240 iteration: 5.7398881912231445\n",
            "Loss on 245 iteration: 5.634008407592773\n",
            "Loss on 250 iteration: 5.530501365661621\n",
            "Loss on 255 iteration: 5.429309844970703\n",
            "Loss on 260 iteration: 5.330375671386719\n",
            "Loss on 265 iteration: 5.233645439147949\n",
            "Loss on 270 iteration: 5.139066219329834\n",
            "Loss on 275 iteration: 5.046586036682129\n",
            "Loss on 280 iteration: 4.956154823303223\n",
            "Loss on 285 iteration: 4.867725372314453\n",
            "Loss on 290 iteration: 4.78125\n",
            "Loss on 295 iteration: 4.696681976318359\n",
            "Loss on 300 iteration: 4.613976955413818\n",
            "Loss on 305 iteration: 4.533092498779297\n",
            "Loss on 310 iteration: 4.453986167907715\n",
            "Loss on 315 iteration: 4.376615524291992\n",
            "Loss on 320 iteration: 4.300941467285156\n",
            "Loss on 325 iteration: 4.226924896240234\n",
            "Loss on 330 iteration: 4.15452766418457\n",
            "Loss on 335 iteration: 4.083713054656982\n",
            "Loss on 340 iteration: 4.014444828033447\n",
            "Loss on 345 iteration: 3.9466872215270996\n",
            "Loss on 350 iteration: 3.880406141281128\n",
            "Loss on 355 iteration: 3.815568447113037\n",
            "Loss on 360 iteration: 3.752140522003174\n",
            "Loss on 365 iteration: 3.690091371536255\n",
            "Loss on 370 iteration: 3.629389762878418\n",
            "Loss on 375 iteration: 3.570004940032959\n",
            "Loss on 380 iteration: 3.511906623840332\n",
            "Loss on 385 iteration: 3.4550676345825195\n",
            "Loss on 390 iteration: 3.399458408355713\n",
            "Loss on 395 iteration: 3.3450515270233154\n",
            "Loss on 400 iteration: 3.2918200492858887\n",
            "Loss on 405 iteration: 3.2397382259368896\n",
            "Loss on 410 iteration: 3.188779354095459\n",
            "Loss on 415 iteration: 3.138918399810791\n",
            "Loss on 420 iteration: 3.0901310443878174\n",
            "Loss on 425 iteration: 3.0423941612243652\n",
            "Loss on 430 iteration: 2.995682716369629\n",
            "Loss on 435 iteration: 2.949974298477173\n",
            "Loss on 440 iteration: 2.905247449874878\n",
            "Loss on 445 iteration: 2.8614790439605713\n",
            "Loss on 450 iteration: 2.81864857673645\n",
            "Loss on 455 iteration: 2.776733875274658\n",
            "Loss on 460 iteration: 2.7357163429260254\n",
            "Loss on 465 iteration: 2.6955742835998535\n",
            "Loss on 470 iteration: 2.6562881469726562\n",
            "Loss on 475 iteration: 2.617839813232422\n",
            "Loss on 480 iteration: 2.580209732055664\n",
            "Loss on 485 iteration: 2.543379545211792\n",
            "Loss on 490 iteration: 2.5073318481445312\n",
            "Loss on 495 iteration: 2.472048282623291\n",
            "Loss on 500 iteration: 2.4375128746032715\n",
            "Loss on 505 iteration: 2.403707504272461\n",
            "Loss on 510 iteration: 2.3706157207489014\n",
            "Loss on 515 iteration: 2.3382225036621094\n",
            "Loss on 520 iteration: 2.3065106868743896\n",
            "Loss on 525 iteration: 2.275465488433838\n",
            "Loss on 530 iteration: 2.245072364807129\n",
            "Loss on 535 iteration: 2.215315103530884\n",
            "Loss on 540 iteration: 2.1861801147460938\n",
            "Loss on 545 iteration: 2.1576526165008545\n",
            "Loss on 550 iteration: 2.129718780517578\n",
            "Loss on 555 iteration: 2.102365493774414\n",
            "Loss on 560 iteration: 2.075578212738037\n",
            "Loss on 565 iteration: 2.049344778060913\n",
            "Loss on 570 iteration: 2.023651599884033\n",
            "Loss on 575 iteration: 1.998486042022705\n",
            "Loss on 580 iteration: 1.9738361835479736\n",
            "Loss on 585 iteration: 1.9496891498565674\n",
            "Loss on 590 iteration: 1.9260332584381104\n",
            "Loss on 595 iteration: 1.9028570652008057\n"
          ]
        }
      ]
    },
    {
      "cell_type": "code",
      "source": [
        "x = torch.tensor(1.0, requires_grad=True)\n",
        "# x.device\n",
        "y = torch.tensor(3.0, requires_grad=True)\n",
        "\n",
        "learning_rate = 1e-3\n",
        "\n",
        "optimizer = SGD(([x, y]),\n",
        "                lr=learning_rate\n",
        "                )\n",
        "\n",
        "for i in range(300):\n",
        "  loss = f3(x, y)\n",
        "\n",
        "  loss.backward()\n",
        "\n",
        "  if i % 5 == 0:\n",
        "    print(f\"Loss on {i} iteration: {loss.item()}\")\n",
        "\n",
        "\n",
        "  optimizer.step()\n",
        "  optimizer.zero_grad()"
      ],
      "metadata": {
        "id": "bvyE3O0CCMl0",
        "outputId": "f652698f-5180-40cb-b335-2f3cf3843fef",
        "colab": {
          "base_uri": "https://localhost:8080/"
        }
      },
      "execution_count": 67,
      "outputs": [
        {
          "output_type": "stream",
          "name": "stdout",
          "text": [
            "Loss on 0 iteration: 153.89373779296875\n",
            "Loss on 5 iteration: 143.69793701171875\n",
            "Loss on 10 iteration: 130.17987060546875\n",
            "Loss on 15 iteration: 121.33487701416016\n",
            "Loss on 20 iteration: 116.86959075927734\n",
            "Loss on 25 iteration: 114.48755645751953\n",
            "Loss on 30 iteration: 113.07481384277344\n",
            "Loss on 35 iteration: 112.15924072265625\n",
            "Loss on 40 iteration: 111.52450561523438\n",
            "Loss on 45 iteration: 111.06139373779297\n",
            "Loss on 50 iteration: 110.70984649658203\n",
            "Loss on 55 iteration: 110.43451690673828\n",
            "Loss on 60 iteration: 110.21332550048828\n",
            "Loss on 65 iteration: 110.03189849853516\n",
            "Loss on 70 iteration: 109.88043975830078\n",
            "Loss on 75 iteration: 109.75209045410156\n",
            "Loss on 80 iteration: 109.64192199707031\n",
            "Loss on 85 iteration: 109.54627990722656\n",
            "Loss on 90 iteration: 109.4624252319336\n",
            "Loss on 95 iteration: 109.38825988769531\n",
            "Loss on 100 iteration: 109.32213592529297\n",
            "Loss on 105 iteration: 109.26275634765625\n",
            "Loss on 110 iteration: 109.20909881591797\n",
            "Loss on 115 iteration: 109.16031646728516\n",
            "Loss on 120 iteration: 109.11573028564453\n",
            "Loss on 125 iteration: 109.07479095458984\n",
            "Loss on 130 iteration: 109.03702545166016\n",
            "Loss on 135 iteration: 109.00202941894531\n",
            "Loss on 140 iteration: 108.9695053100586\n",
            "Loss on 145 iteration: 108.93915557861328\n",
            "Loss on 150 iteration: 108.9107437133789\n",
            "Loss on 155 iteration: 108.88407897949219\n",
            "Loss on 160 iteration: 108.85897827148438\n",
            "Loss on 165 iteration: 108.83528900146484\n",
            "Loss on 170 iteration: 108.8128890991211\n",
            "Loss on 175 iteration: 108.79165649414062\n",
            "Loss on 180 iteration: 108.77149963378906\n",
            "Loss on 185 iteration: 108.75233459472656\n",
            "Loss on 190 iteration: 108.73406219482422\n",
            "Loss on 195 iteration: 108.71663665771484\n",
            "Loss on 200 iteration: 108.69998168945312\n",
            "Loss on 205 iteration: 108.6840591430664\n",
            "Loss on 210 iteration: 108.66880798339844\n",
            "Loss on 215 iteration: 108.65419006347656\n",
            "Loss on 220 iteration: 108.64016723632812\n",
            "Loss on 225 iteration: 108.62669372558594\n",
            "Loss on 230 iteration: 108.6137466430664\n",
            "Loss on 235 iteration: 108.60130310058594\n",
            "Loss on 240 iteration: 108.58931732177734\n",
            "Loss on 245 iteration: 108.57778930664062\n",
            "Loss on 250 iteration: 108.56668853759766\n",
            "Loss on 255 iteration: 108.55597686767578\n",
            "Loss on 260 iteration: 108.54566192626953\n",
            "Loss on 265 iteration: 108.53571319580078\n",
            "Loss on 270 iteration: 108.5261001586914\n",
            "Loss on 275 iteration: 108.51683044433594\n",
            "Loss on 280 iteration: 108.50788116455078\n",
            "Loss on 285 iteration: 108.4992446899414\n",
            "Loss on 290 iteration: 108.49090576171875\n",
            "Loss on 295 iteration: 108.48284149169922\n"
          ]
        }
      ]
    }
  ]
}